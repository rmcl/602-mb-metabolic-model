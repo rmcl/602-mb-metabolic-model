{
 "cells": [
  {
   "cell_type": "markdown",
   "metadata": {},
   "source": [
    "Hello class!\n",
    "======\n",
    "\n",
    "Welcome to my individual project! \n",
    "\n",
    "**What is this thing?**\n",
    "\n",
    "This is an interactive \"Flux based model\" of ecoli metabolism. It is created using [python](http://www.python.org) programming language running in a [jupyter notebook](http://jupyter.org/). \n",
    "\n",
    "**What is a Flux Based Model**\n",
    "\n",
    "As we've learned, organisms convert energy and food into useful molecules and prodigny through series of many individual reactions. Estimating the kinetic parameters for each of these reactions under the varying conditions within in a cell is often impractical. Flux based models use stoicheometry of the reactions and some complicated math (linear optimization) to predict the concentrations of metabolites and the \"flux\" through reactions.\n",
    "\n",
    "** How does it work **\n",
    "\n",
    "1. Input all of the known reactions of an organism into the model in terms of their stoicheometry. For instance,"
   ]
  },
  {
   "cell_type": "code",
   "execution_count": 1,
   "metadata": {},
   "outputs": [
    {
     "ename": "ImportError",
     "evalue": "cannot import name 'np'",
     "output_type": "error",
     "traceback": [
      "\u001b[0;31m---------------------------------------------------------------------------\u001b[0m",
      "\u001b[0;31mImportError\u001b[0m                               Traceback (most recent call last)",
      "\u001b[0;32m<ipython-input-1-314adb301535>\u001b[0m in \u001b[0;36m<module>\u001b[0;34m()\u001b[0m\n\u001b[0;32m----> 1\u001b[0;31m \u001b[0;32mfrom\u001b[0m \u001b[0mnumpy\u001b[0m \u001b[0;32mimport\u001b[0m \u001b[0mnp\u001b[0m\u001b[0;34m\u001b[0m\u001b[0m\n\u001b[0m",
      "\u001b[0;31mImportError\u001b[0m: cannot import name 'np'"
     ]
    }
   ],
   "source": [
    "from numpy import np\n",
    "\n",
    "b = 5 + 5\n"
   ]
  },
  {
   "cell_type": "code",
   "execution_count": null,
   "metadata": {
    "collapsed": true
   },
   "outputs": [],
   "source": []
  }
 ],
 "metadata": {
  "kernelspec": {
   "display_name": "Python 3",
   "language": "python",
   "name": "python3"
  },
  "language_info": {
   "codemirror_mode": {
    "name": "ipython",
    "version": 3
   },
   "file_extension": ".py",
   "mimetype": "text/x-python",
   "name": "python",
   "nbconvert_exporter": "python",
   "pygments_lexer": "ipython3",
   "version": "3.6.3"
  }
 },
 "nbformat": 4,
 "nbformat_minor": 2
}
