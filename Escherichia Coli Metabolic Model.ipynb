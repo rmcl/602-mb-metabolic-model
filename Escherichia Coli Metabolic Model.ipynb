{
 "cells": [
  {
   "cell_type": "markdown",
   "metadata": {},
   "source": [
    "# Hello class!\n",
    "\n",
    "\n",
    "Welcome to my individual project! \n",
    "\n",
    "### What is this thing?\n",
    "\n",
    "This is an interactive \"Flux based model\" of ecoli metabolism. It is created using the [python](http://www.python.org) programming language running in a [jupyter notebook](http://jupyter.org/). \n",
    "\n",
    "### What is a Flux Based Model?\n",
    "\n",
    "Organisms convert energy and food into useful molecules and proginy through series of many individual reactions. Estimating the kinetic parameters for each of these reactions under the varying conditions within in a cell is often impractical. Flux based models use stoicheometry of the reactions and some complicated math (linear optimization) to predict the concentrations of metabolites and the \"flux\" through reactions.\n",
    "\n",
    "### How does it work\n",
    "\n",
    "1. Input all of the known reactions of an organism into the model in terms of their stoicheometry.\n",
    "2. Define an \"objective function\", for example cell growth rate.\n",
    "3. Using linear optimization to see what reactions would be employed to maximize the objective function"
   ]
  },
  {
   "cell_type": "markdown",
   "metadata": {},
   "source": [
    "\n",
    "## Getting started - Run the following cells!\n",
    "\n",
    "The following code allows us to connect to a online database of metabolic information and build a stoicheometry matrix. Don't worry about how it works for the moment and just press run\n"
   ]
  },
  {
   "cell_type": "code",
   "execution_count": 205,
   "metadata": {},
   "outputs": [],
   "source": [
    "## Run this cell so you are able to get reaction data from EcoCyc online database!\n",
    "\n",
    "class BioCycAPI(object):\n",
    "    def __init__(self):\n",
    "        self.cache = {}\n",
    "\n",
    "    def get_xml(self, identifier):\n",
    "        if identifier in self.cache:\n",
    "            return self.cache[identifier]\n",
    "        \n",
    "        resp = requests.get('https://websvc.biocyc.org/getxml?%s' % identifier)\n",
    "        if resp.status_code != 200:\n",
    "            raise Exception('Error fetching biocyc identifier \"%s\"' % identifier)\n",
    "        result = fromstring(resp.text)\n",
    "        self.cache[identifier] = result\n",
    "        return result\n",
    "        \n",
    "    def get_compound(self, compound_identifier):        \n",
    "        result = self.get_xml(compound_identifier)\n",
    "        compound_xml = result.find('Compound')\n",
    "\n",
    "        return {\n",
    "            'common_name': compound_xml.find('common-name').text,\n",
    "            'synonym': compound_xml.find('synonym').text,\n",
    "            #'inchi': compound_xml.find('inchi').text\n",
    "        }\n",
    "\n",
    "    def parse_reaction_participant_xml(self, participant_xml):\n",
    "        compound = participant_xml.find('Compound')\n",
    "        compound_identifier = compound.attrib['resource'][7:]\n",
    "\n",
    "        coefficient_xml = participant_xml.find('coefficient')\n",
    "        if coefficient_xml is None:\n",
    "            coefficient = 1\n",
    "        else:\n",
    "            coefficient = int(coefficient_xml.text)\n",
    "\n",
    "        participant_details = api.get_compound(compound_identifier)\n",
    "        participant_details['coefficient'] = coefficient\n",
    "        return participant_details\n",
    "    \n",
    "    def get_reaction(self, reaction_identifier):\n",
    "        result = self.get_xml(reaction_identifier)\n",
    "        rxn_xml = result.findall('Reaction')[0]\n",
    "\n",
    "        er_xml = rxn_xml.find('enzymatic-reaction')\n",
    "        er_xml = er_xml.find('Enzymatic-Reaction')\n",
    "        \n",
    "        rxn_details = {\n",
    "            'enzyme_ec_number': rxn_xml.find('ec-number').text,\n",
    "            'enzyme_common_name': er_xml.find('common-name').text,\n",
    "            'enzyme_synonym': er_xml.find('synonym').text\n",
    "        }\n",
    "        \n",
    "        reactants = []\n",
    "        for reactant_xml in rxn_xml.findall('left'):\n",
    "            reactants.append(self.parse_reaction_participant_xml(reactant_xml))\n",
    "        products = []\n",
    "        for product_xml in rxn_xml.findall('right'):\n",
    "            products.append(self.parse_reaction_participant_xml(product_xml))\n",
    "        \n",
    "        rxn_details['reactants'] = reactants\n",
    "        rxn_details['products'] = products\n",
    "        \n",
    "        return rxn_details\n",
    "\n",
    "api = BioCycAPI()"
   ]
  },
  {
   "cell_type": "code",
   "execution_count": 206,
   "metadata": {},
   "outputs": [],
   "source": [
    "## NOW Run this cell so you can build Stoichiometry Matrices\n",
    "\n",
    "\n",
    "import requests\n",
    "from xml.etree.ElementTree import fromstring\n",
    "from collections import OrderedDict\n",
    "import itertools\n",
    "import numpy as np\n",
    "\n",
    "class StoichiometryStore(object):\n",
    "    def __init__(self, biocyc_api):\n",
    "        self.biocyc_api = biocyc_api\n",
    "        \n",
    "        self.reactions = OrderedDict()\n",
    "        \n",
    "    def add_reaction(self, name):\n",
    "        if name in self.reactions:\n",
    "            return\n",
    "        \n",
    "        self.reactions[name] = self.biocyc_api.get_reaction(name)\n",
    "        \n",
    "    def get_metabolites(self):\n",
    "        metabolites = OrderedDict()\n",
    "        for reaction in self.reactions.values():\n",
    "            for participant in itertools.chain.from_iterable([\n",
    "                reaction['products'], reaction['reactants']\n",
    "            ]):\n",
    "                \n",
    "                metabolites[participant['common_name']] = {\n",
    "                    'synonym': participant['synonym']\n",
    "                }\n",
    "                \n",
    "        \n",
    "        return metabolites\n",
    "    \n",
    "    def get_metabolite_vector(self):\n",
    "        return list(self.get_metabolites().keys())\n",
    "    \n",
    "    def get_metabolite_positions(self):\n",
    "        metabolite_list = self.get_metabolite_vector()\n",
    "        return {\n",
    "            metabolite_list[pos]: pos for pos in range(len(metabolite_list))\n",
    "        }\n",
    "    \n",
    "    def get_reaction_vector(self):\n",
    "        return list(self.reactions.keys())\n",
    "    \n",
    "    def get_stoichiometry_matrix(self):\n",
    "        metabolite_positions = self.get_metabolite_positions()\n",
    "        num_metabolites = len(metabolite_positions)\n",
    "        num_reactions = len(self.reactions)\n",
    "        \n",
    "        \n",
    "        \n",
    "        s = np.zeros((num_metabolites, num_reactions))\n",
    "        cur_rxn_idx = 0\n",
    "        for reaction_name, reaction_details in self.reactions.items():\n",
    "            for reactant_details in reaction_details['reactants']:\n",
    "                # reactants should have negative coefficient\n",
    "                coefficient = reactant_details['coefficient'] * -1\n",
    "                s[metabolite_positions[reactant_details['common_name']], cur_rxn_idx] = coefficient\n",
    "\n",
    "            for product_details in reaction_details['products']:\n",
    "                # products should have positive coefficient\n",
    "                coefficient = product_details['coefficient']\n",
    "                s[metabolite_positions[product_details['common_name']], cur_rxn_idx] = coefficient\n",
    "\n",
    "            \n",
    "            cur_rxn_idx += 1\n",
    "        \n",
    "        return s"
   ]
  },
  {
   "cell_type": "markdown",
   "metadata": {},
   "source": [
    "## An example to give you a feel for the technique\n",
    "\n",
    "One pathway in ecoli metabolism is the creation of the amino acid threonine.\n",
    "\n",
    "### online databases\n",
    "\n",
    "There is so much data in molecular biology these days that researchers have created online databases to keep track of it. These databases contain the results of thousands of individual researchers efforts and their publications.\n",
    "\n",
    "EcoCyc was created by researchers at SRI and stores metabolic pathways for Ecoli. It's available online at https://ecocyc.org/. Heres how the authors describe it:\n",
    "\n",
    "    EcoCyc is a scientific database for the bacterium Escherichia coli K-12 MG1655. The EcoCyc project performs literature-based curation of the entire genome, and of transcriptional regulation, transporters, and metabolic pathways. \n",
    "    \n",
    "    You can learn more by reading this paper: Keseler et al. (2017), \"EcoCyc: reflecting new knowledge about Escherichia coli K-12\", Nucleic Acids Research 45:D543-50.\n",
    "    \n",
    "    \n",
    "EcoCyc has thousands of reactions and pathways for ecoli and you get visualize them on the web. Here is a link to the threonine synthesis pathway: https://ecocyc.org/ECOLI/NEW-IMAGE?type=NIL&object=THRESYN-PWY&redirect=T\n",
    "\n",
    "\n",
    "![Threonine Biosynthesis Pathway](https://ecocyc.org/tmp/ptools-images/ECOLI/THRESYN-PWY_PWY-DIAGRAM_redirect=T.gif)\n",
    "\n"
   ]
  },
  {
   "cell_type": "markdown",
   "metadata": {},
   "source": [
    "For this project we are interested in getting this data in a programatic way. Ecocyc can be accesssed by an \"API\". I've written some python code that lets us get information about each reaction of this pathway. For example, below we retrieve details about threonine synthase. The format is a bit hard to read, but easy to interact with using python."
   ]
  },
  {
   "cell_type": "code",
   "execution_count": 203,
   "metadata": {},
   "outputs": [
    {
     "data": {
      "text/plain": [
       "{'enzyme_ec_number': 'EC-4.2.3.1',\n",
       " 'enzyme_common_name': 'threonine synthase',\n",
       " 'enzyme_synonym': 'O-phospho-L-homoserine phospho-lyase',\n",
       " 'reactants': [{'common_name': 'O-phospho-L-homoserine',\n",
       "   'synonym': 'o-phosphohomoserine',\n",
       "   'coefficient': 1},\n",
       "  {'common_name': 'H<sub>2</sub>O', 'synonym': 'H2O', 'coefficient': 1}],\n",
       " 'products': [{'common_name': 'phosphate',\n",
       "   'synonym': 'inorganic phosphate',\n",
       "   'coefficient': 1},\n",
       "  {'common_name': 'L-threonine', 'synonym': 'T', 'coefficient': 1}]}"
      ]
     },
     "execution_count": 203,
     "metadata": {},
     "output_type": "execute_result"
    }
   ],
   "source": [
    "# Retrieve information about the threonine synthase reaction\n",
    "api.get_reaction('ECOLI:THRESYN-RXN')"
   ]
  },
  {
   "cell_type": "code",
   "execution_count": 1,
   "metadata": {
    "collapsed": true
   },
   "outputs": [],
   "source": [
    "stoich = StoichiometryStore(api)\n",
    "stoich.add_reaction('ECOLI:THRESYN-RXN')\n",
    "\n",
    "metabolites = stoich.get_metabolites()\n",
    "print(stoich.get_metabolite_vector())\n",
    "print(stoich.get_reaction_vector())\n",
    "print(stoich.get_metabolite_positions())\n",
    "print(stoich.get_stoichiometry_matrix())\n",
    "\n",
    "import pprint\n",
    "pprint.pprint(metabolites)\n",
    "#api.get_compound('ECOLI:O-PHOSPHO-L-HOMOSERINE')"
   ]
  },
  {
   "cell_type": "markdown",
   "metadata": {
    "collapsed": true
   },
   "source": [
    "## References\n",
    "\n",
    "\n",
    "1. W. Covert. Fundamentals of Systems Biology: From Synthetic Circuits to Whole-cell Models Markus. CRC Press. 2015.\n",
    "2. Keseler et al. (2017), \"EcoCyc: reflecting new knowledge about Escherichia coli K-12\", Nucleic Acids Research 45:D543-50."
   ]
  },
  {
   "cell_type": "code",
   "execution_count": 172,
   "metadata": {},
   "outputs": [],
   "source": []
  },
  {
   "cell_type": "code",
   "execution_count": 200,
   "metadata": {},
   "outputs": [
    {
     "name": "stdout",
     "output_type": "stream",
     "text": [
      "['phosphate', 'L-threonine', 'O-phospho-L-homoserine', 'H<sub>2</sub>O']\n",
      "['ECOLI:THRESYN-RXN']\n",
      "{'phosphate': 0, 'L-threonine': 1, 'O-phospho-L-homoserine': 2, 'H<sub>2</sub>O': 3}\n",
      "[[ 1.]\n",
      " [ 1.]\n",
      " [-1.]\n",
      " [-1.]]\n",
      "OrderedDict([('phosphate', {'synonym': 'inorganic phosphate'}),\n",
      "             ('L-threonine', {'synonym': 'T'}),\n",
      "             ('O-phospho-L-homoserine', {'synonym': 'o-phosphohomoserine'}),\n",
      "             ('H<sub>2</sub>O', {'synonym': 'H2O'})])\n"
     ]
    }
   ],
   "source": [
    "import requests\n",
    "from xml.etree.ElementTree import fromstring\n",
    "from collections import OrderedDict\n",
    "import itertools\n",
    "import numpy as np\n",
    "\n",
    "class StoichiometryStore(object):\n",
    "    def __init__(self, biocyc_api):\n",
    "        self.biocyc_api = biocyc_api\n",
    "        \n",
    "        self.reactions = OrderedDict()\n",
    "        \n",
    "    def add_reaction(self, name):\n",
    "        if name in self.reactions:\n",
    "            return\n",
    "        \n",
    "        self.reactions[name] = self.biocyc_api.get_reaction(name)\n",
    "        \n",
    "    def get_metabolites(self):\n",
    "        metabolites = OrderedDict()\n",
    "        for reaction in self.reactions.values():\n",
    "            for participant in itertools.chain.from_iterable([\n",
    "                reaction['products'], reaction['reactants']\n",
    "            ]):\n",
    "                \n",
    "                metabolites[participant['common_name']] = {\n",
    "                    'synonym': participant['synonym']\n",
    "                }\n",
    "                \n",
    "        \n",
    "        return metabolites\n",
    "    \n",
    "    def get_metabolite_vector(self):\n",
    "        return list(self.get_metabolites().keys())\n",
    "    \n",
    "    def get_metabolite_positions(self):\n",
    "        metabolite_list = self.get_metabolite_vector()\n",
    "        return {\n",
    "            metabolite_list[pos]: pos for pos in range(len(metabolite_list))\n",
    "        }\n",
    "    \n",
    "    def get_reaction_vector(self):\n",
    "        return list(self.reactions.keys())\n",
    "    \n",
    "    def get_stoichiometry_matrix(self):\n",
    "        metabolite_positions = self.get_metabolite_positions()\n",
    "        num_metabolites = len(metabolite_positions)\n",
    "        num_reactions = len(self.reactions)\n",
    "        \n",
    "        \n",
    "        \n",
    "        s = np.zeros((num_metabolites, num_reactions))\n",
    "        cur_rxn_idx = 0\n",
    "        for reaction_name, reaction_details in self.reactions.items():\n",
    "            for reactant_details in reaction_details['reactants']:\n",
    "                # reactants should have negative coefficient\n",
    "                coefficient = reactant_details['coefficient'] * -1\n",
    "                s[metabolite_positions[reactant_details['common_name']], cur_rxn_idx] = coefficient\n",
    "\n",
    "            for product_details in reaction_details['products']:\n",
    "                # products should have positive coefficient\n",
    "                coefficient = product_details['coefficient']\n",
    "                s[metabolite_positions[product_details['common_name']], cur_rxn_idx] = coefficient\n",
    "\n",
    "            \n",
    "            cur_rxn_idx += 1\n",
    "        \n",
    "        return s\n",
    "            \n",
    "\n",
    "stoich = StoichiometryStore(api)\n",
    "stoich.add_reaction('ECOLI:THRESYN-RXN')\n",
    "\n",
    "metabolites = stoich.get_metabolites()\n",
    "print(stoich.get_metabolite_vector())\n",
    "print(stoich.get_reaction_vector())\n",
    "print(stoich.get_metabolite_positions())\n",
    "print(stoich.get_stoichiometry_matrix())\n",
    "\n",
    "import pprint\n",
    "pprint.pprint(metabolites)\n",
    "#api.get_compound('ECOLI:O-PHOSPHO-L-HOMOSERINE')"
   ]
  },
  {
   "cell_type": "code",
   "execution_count": 165,
   "metadata": {},
   "outputs": [
    {
     "name": "stdout",
     "output_type": "stream",
     "text": [
      "[]\n"
     ]
    }
   ],
   "source": [
    "rxn_xml = xml.findall('Reaction')[0]\n",
    "reactants = []\n",
    "for reactants_xml in rxn_xml.findall('left'):\n",
    "    compound = reactants_xml.find('Compound')\n",
    "    compound_identifier = compound.attrib['resource'][7:]\n",
    "    \n",
    "    coefficient_xml = product.find('coefficient')\n",
    "    if coefficient_xml is None:\n",
    "        coefficient = 1\n",
    "    else:\n",
    "        coefficient = int(coefficient_xml.text)\n",
    "    \n",
    "    reactant_details = api.get_compound(compound_identifier)\n",
    "    reactant_details['coefficient'] = coefficient\n",
    "    \n",
    "print(reactants)"
   ]
  },
  {
   "cell_type": "code",
   "execution_count": 88,
   "metadata": {},
   "outputs": [
    {
     "data": {
      "text/plain": [
       "'O-phospho-L-homoserine phospho-lyase'"
      ]
     },
     "execution_count": 88,
     "metadata": {},
     "output_type": "execute_result"
    }
   ],
   "source": [
    "er_xml = rxn_xml.find('enzymatic-reaction')\n",
    "er_xml = er_xml.find('Enzymatic-Reaction')\n",
    "er_xml.find('common-name').text\n",
    "er_xml.find('synonym').text"
   ]
  },
  {
   "cell_type": "code",
   "execution_count": 158,
   "metadata": {},
   "outputs": [
    {
     "data": {
      "text/plain": [
       "{'enzyme_ec_number': 'EC-4.2.3.1',\n",
       " 'enzyme_common_name': 'threonine synthase',\n",
       " 'enzyme_synonym': 'O-phospho-L-homoserine phospho-lyase',\n",
       " 'reactants': [{'common_name': 'O-phospho-L-homoserine',\n",
       "   'synonym': 'o-phosphohomoserine',\n",
       "   'coefficient': 2},\n",
       "  {'common_name': 'H<sub>2</sub>O', 'synonym': 'H2O', 'coefficient': 2}]}"
      ]
     },
     "execution_count": 158,
     "metadata": {},
     "output_type": "execute_result"
    }
   ],
   "source": [
    "x"
   ]
  },
  {
   "cell_type": "code",
   "execution_count": 141,
   "metadata": {},
   "outputs": [],
   "source": [
    "res = api.get_xml('ECOLI:RXN0-5268')"
   ]
  },
  {
   "cell_type": "code",
   "execution_count": 153,
   "metadata": {},
   "outputs": [
    {
     "name": "stdout",
     "output_type": "stream",
     "text": [
      "8\n",
      "1\n",
      "2\n"
     ]
    }
   ],
   "source": [
    "for product in res.find('Reaction').findall('left'):\n",
    "    coefficient_xml = product.find('coefficient')\n",
    "    if coefficient_xml is None:\n",
    "        coefficient = 1\n",
    "    else:\n",
    "        coefficient = int(coefficient_xml.text)\n",
    "    \n",
    "    print(coefficient)"
   ]
  },
  {
   "cell_type": "code",
   "execution_count": null,
   "metadata": {},
   "outputs": [],
   "source": []
  }
 ],
 "metadata": {
  "kernelspec": {
   "display_name": "Python 3",
   "language": "python",
   "name": "python3"
  },
  "language_info": {
   "codemirror_mode": {
    "name": "ipython",
    "version": 3
   },
   "file_extension": ".py",
   "mimetype": "text/x-python",
   "name": "python",
   "nbconvert_exporter": "python",
   "pygments_lexer": "ipython3",
   "version": "3.7.0"
  }
 },
 "nbformat": 4,
 "nbformat_minor": 2
}
