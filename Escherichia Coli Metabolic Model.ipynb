{
 "cells": [
  {
   "cell_type": "markdown",
   "metadata": {},
   "source": [
    "# Hello class!\n",
    "\n",
    "\n",
    "Welcome to my individual project! \n",
    "\n",
    "### What is this thing?\n",
    "\n",
    "This is an interactive \"Flux based model\" of ecoli metabolism. It is created using the [python](http://www.python.org) programming language running in a [jupyter notebook](http://jupyter.org/). \n",
    "\n",
    "### What is a Flux Based Model?\n",
    "\n",
    "Organisms convert energy and food into useful molecules and proginy through series of many individual reactions. Estimating the kinetic parameters for each of these reactions under the varying conditions within in a cell is often impractical. Flux based models use stoicheometry of the reactions and some complicated math (linear optimization) to predict the concentrations of metabolites and the \"flux\" through reactions.\n",
    "\n",
    "### How does it work\n",
    "\n",
    "1. Input all of the known reactions of an organism into the model in terms of their stoicheometry.\n",
    "2. Define an \"objective function\", for example cell growth rate.\n",
    "3. Using linear optimization to see what reactions would be employed to maximize the objective function"
   ]
  },
  {
   "cell_type": "markdown",
   "metadata": {},
   "source": [
    "## An example to give you a feel for the technique\n",
    "\n",
    "One pathway in ecoli metabolism is the creation of the amino acid threonine.\n"
   ]
  },
  {
   "cell_type": "code",
   "execution_count": 1,
   "metadata": {
    "collapsed": true
   },
   "outputs": [],
   "source": [
    "import numpy as np"
   ]
  },
  {
   "cell_type": "markdown",
   "metadata": {
    "collapsed": true
   },
   "source": [
    "## References\n",
    "\n",
    "\n",
    "1. W. Covert. Fundamentals of Systems Biology: From Synthetic Circuits to Whole-cell Models Markus. CRC Press. 2015.\n",
    "2. Keseler et al. (2017), \"EcoCyc: reflecting new knowledge about Escherichia coli K-12\", Nucleic Acids Research 45:D543-50."
   ]
  },
  {
   "cell_type": "code",
   "execution_count": 4,
   "metadata": {},
   "outputs": [],
   "source": [
    "import requests\n",
    "r = requests.get('https://websvc.biocyc.org/apixml?fn=genes-of-pathway&id=ECOLI:HOMOSER-THRESYN-PWY&detail=full')"
   ]
  },
  {
   "cell_type": "code",
   "execution_count": 3,
   "metadata": {},
   "outputs": [
    {
     "ename": "ModuleNotFoundError",
     "evalue": "No module named 'lxml'",
     "output_type": "error",
     "traceback": [
      "\u001b[0;31m---------------------------------------------------------------------------\u001b[0m",
      "\u001b[0;31mModuleNotFoundError\u001b[0m                       Traceback (most recent call last)",
      "\u001b[0;32m<ipython-input-3-22a68df90245>\u001b[0m in \u001b[0;36m<module>\u001b[0;34m()\u001b[0m\n\u001b[0;32m----> 1\u001b[0;31m \u001b[0;32mfrom\u001b[0m \u001b[0mlxml\u001b[0m\u001b[0;34m.\u001b[0m\u001b[0mhtml\u001b[0m \u001b[0;32mimport\u001b[0m \u001b[0mElement\u001b[0m\u001b[0;34m,\u001b[0m \u001b[0mfromstring\u001b[0m\u001b[0;34m\u001b[0m\u001b[0m\n\u001b[0m\u001b[1;32m      2\u001b[0m \u001b[0mfromstring\u001b[0m\u001b[0;34m(\u001b[0m\u001b[0mr\u001b[0m\u001b[0;34m.\u001b[0m\u001b[0mtext\u001b[0m\u001b[0;34m)\u001b[0m\u001b[0;34m\u001b[0m\u001b[0m\n",
      "\u001b[0;31mModuleNotFoundError\u001b[0m: No module named 'lxml'"
     ]
    }
   ],
   "source": [
    "from lxml.html import Element, fromstring\n",
    "fromstring(r.text)"
   ]
  },
  {
   "cell_type": "code",
   "execution_count": 29,
   "metadata": {},
   "outputs": [],
   "source": [
    "from xmljson import badgerfish \n",
    "from xml.etree.ElementTree import fromstring\n",
    "import requests\n",
    "\n",
    "r = requests.get('https://websvc.biocyc.org/apixml?fn=genes-of-pathway&id=ECOLI:HOMOSER-THRESYN-PWY&detail=full')\n",
    "res = fromstring(r.text)"
   ]
  },
  {
   "cell_type": "code",
   "execution_count": 36,
   "metadata": {},
   "outputs": [],
   "source": [
    "genes = res.findall('Gene')\n",
    "g = genes[0]\n"
   ]
  },
  {
   "cell_type": "code",
   "execution_count": 163,
   "metadata": {},
   "outputs": [
    {
     "name": "stdout",
     "output_type": "stream",
     "text": [
      "{'enzyme_common_name': 'threonine synthase',\n",
      " 'enzyme_ec_number': 'EC-4.2.3.1',\n",
      " 'enzyme_synonym': 'O-phospho-L-homoserine phospho-lyase',\n",
      " 'products': [{'coefficient': 1,\n",
      "               'common_name': 'phosphate',\n",
      "               'synonym': 'inorganic phosphate'},\n",
      "              {'coefficient': 1, 'common_name': 'L-threonine', 'synonym': 'T'}],\n",
      " 'reactants': [{'coefficient': 1,\n",
      "                'common_name': 'O-phospho-L-homoserine',\n",
      "                'synonym': 'o-phosphohomoserine'},\n",
      "               {'coefficient': 1,\n",
      "                'common_name': 'H<sub>2</sub>O',\n",
      "                'synonym': 'H2O'}]}\n"
     ]
    }
   ],
   "source": [
    "class BioCycAPI(object):\n",
    "    def __init__(self):\n",
    "        self.cache = {}\n",
    "\n",
    "    def get_xml(self, identifier):\n",
    "        if identifier in self.cache:\n",
    "            return self.cache[identifier]\n",
    "        \n",
    "        resp = requests.get('https://websvc.biocyc.org/getxml?%s' % identifier)\n",
    "        if resp.status_code != 200:\n",
    "            raise Exception('Error fetching biocyc identifier \"%s\"' % identifier)\n",
    "        result = fromstring(resp.text)\n",
    "        self.cache[identifier] = result\n",
    "        return result\n",
    "        \n",
    "    def get_compound(self, compound_identifier):        \n",
    "        result = self.get_xml(compound_identifier)\n",
    "        compound_xml = result.find('Compound')\n",
    "\n",
    "        return {\n",
    "            'common_name': compound_xml.find('common-name').text,\n",
    "            'synonym': compound_xml.find('synonym').text,\n",
    "            #'inchi': compound_xml.find('inchi').text\n",
    "        }\n",
    "\n",
    "    def parse_reaction_participant_xml(self, participant_xml):\n",
    "        compound = participant_xml.find('Compound')\n",
    "        compound_identifier = compound.attrib['resource'][7:]\n",
    "\n",
    "        coefficient_xml = participant_xml.find('coefficient')\n",
    "        if coefficient_xml is None:\n",
    "            coefficient = 1\n",
    "        else:\n",
    "            coefficient = int(coefficient_xml.text)\n",
    "\n",
    "        participant_details = api.get_compound(compound_identifier)\n",
    "        participant_details['coefficient'] = coefficient\n",
    "        return participant_details\n",
    "    \n",
    "    def get_reaction(self, reaction_identifier):\n",
    "        result = self.get_xml(reaction_identifier)\n",
    "        rxn_xml = result.findall('Reaction')[0]\n",
    "\n",
    "        er_xml = rxn_xml.find('enzymatic-reaction')\n",
    "        er_xml = er_xml.find('Enzymatic-Reaction')\n",
    "        \n",
    "        rxn_details = {\n",
    "            'enzyme_ec_number': rxn_xml.find('ec-number').text,\n",
    "            'enzyme_common_name': er_xml.find('common-name').text,\n",
    "            'enzyme_synonym': er_xml.find('synonym').text\n",
    "        }\n",
    "        \n",
    "        reactants = []\n",
    "        for reactant_xml in rxn_xml.findall('left'):\n",
    "            reactants.append(self.parse_reaction_participant_xml(reactant_xml))\n",
    "        products = []\n",
    "        for product_xml in rxn_xml.findall('right'):\n",
    "            products.append(self.parse_reaction_participant_xml(product_xml))\n",
    "        \n",
    "        rxn_details['reactants'] = reactants\n",
    "        rxn_details['products'] = products\n",
    "        \n",
    "        return rxn_details\n",
    "\n",
    "api = BioCycAPI()\n",
    "x = api.get_reaction('ECOLI:THRESYN-RXN')\n",
    "import pprint\n",
    "pprint.pprint(x)\n",
    "#api.get_compound('ECOLI:O-PHOSPHO-L-HOMOSERINE')"
   ]
  },
  {
   "cell_type": "code",
   "execution_count": 154,
   "metadata": {},
   "outputs": [
    {
     "name": "stdout",
     "output_type": "stream",
     "text": [
      "[]\n"
     ]
    }
   ],
   "source": [
    "rxn_xml = xml.findall('Reaction')[0]\n",
    "reactants = []\n",
    "for reactants_xml in rxn_xml.findall('left'):\n",
    "    compound = reactants_xml.find('Compound')\n",
    "    compound_identifier = compound.attrib['resource'][7:]\n",
    "    \n",
    "    coefficient_xml = product.find('coefficient')\n",
    "    if coefficient_xml is None:\n",
    "        coefficient = 1\n",
    "    else:\n",
    "        coefficient = int(coefficient_xml.text)\n",
    "    \n",
    "    reactant_details = api.get_compound(compound_identifier)\n",
    "    reactant_details['coefficient'] = coefficient\n",
    "    \n",
    "print(reactants)"
   ]
  },
  {
   "cell_type": "code",
   "execution_count": 88,
   "metadata": {},
   "outputs": [
    {
     "data": {
      "text/plain": [
       "'O-phospho-L-homoserine phospho-lyase'"
      ]
     },
     "execution_count": 88,
     "metadata": {},
     "output_type": "execute_result"
    }
   ],
   "source": [
    "er_xml = rxn_xml.find('enzymatic-reaction')\n",
    "er_xml = er_xml.find('Enzymatic-Reaction')\n",
    "er_xml.find('common-name').text\n",
    "er_xml.find('synonym').text"
   ]
  },
  {
   "cell_type": "code",
   "execution_count": 158,
   "metadata": {},
   "outputs": [
    {
     "data": {
      "text/plain": [
       "{'enzyme_ec_number': 'EC-4.2.3.1',\n",
       " 'enzyme_common_name': 'threonine synthase',\n",
       " 'enzyme_synonym': 'O-phospho-L-homoserine phospho-lyase',\n",
       " 'reactants': [{'common_name': 'O-phospho-L-homoserine',\n",
       "   'synonym': 'o-phosphohomoserine',\n",
       "   'coefficient': 2},\n",
       "  {'common_name': 'H<sub>2</sub>O', 'synonym': 'H2O', 'coefficient': 2}]}"
      ]
     },
     "execution_count": 158,
     "metadata": {},
     "output_type": "execute_result"
    }
   ],
   "source": [
    "x"
   ]
  },
  {
   "cell_type": "code",
   "execution_count": 141,
   "metadata": {},
   "outputs": [],
   "source": [
    "res = api.get_xml('ECOLI:RXN0-5268')"
   ]
  },
  {
   "cell_type": "code",
   "execution_count": 153,
   "metadata": {},
   "outputs": [
    {
     "name": "stdout",
     "output_type": "stream",
     "text": [
      "8\n",
      "1\n",
      "2\n"
     ]
    }
   ],
   "source": [
    "for product in res.find('Reaction').findall('left'):\n",
    "    coefficient_xml = product.find('coefficient')\n",
    "    if coefficient_xml is None:\n",
    "        coefficient = 1\n",
    "    else:\n",
    "        coefficient = int(coefficient_xml.text)\n",
    "    \n",
    "    print(coefficient)"
   ]
  },
  {
   "cell_type": "code",
   "execution_count": null,
   "metadata": {},
   "outputs": [],
   "source": []
  }
 ],
 "metadata": {
  "kernelspec": {
   "display_name": "Python 3",
   "language": "python",
   "name": "python3"
  },
  "language_info": {
   "codemirror_mode": {
    "name": "ipython",
    "version": 3
   },
   "file_extension": ".py",
   "mimetype": "text/x-python",
   "name": "python",
   "nbconvert_exporter": "python",
   "pygments_lexer": "ipython3",
   "version": "3.7.0"
  }
 },
 "nbformat": 4,
 "nbformat_minor": 2
}
